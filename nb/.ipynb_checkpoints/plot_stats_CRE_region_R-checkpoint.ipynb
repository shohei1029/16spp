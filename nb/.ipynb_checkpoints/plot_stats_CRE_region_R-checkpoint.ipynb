{
 "cells": [
  {
   "cell_type": "markdown",
   "metadata": {},
   "source": [
    "2017.1 作成 by Shohei Nagata  \n",
    "HIV-1 polタンパク質上のドメイン領域ごとの棒グラフをプロット。様々な統計検定をやっている。  \n",
    " ドメインごとのCRE値はpythonスクリプトで計算してcsv出力した。"
   ]
  },
  {
   "cell_type": "code",
   "execution_count": 285,
   "metadata": {
    "collapsed": false
   },
   "outputs": [
    {
     "name": "stdout",
     "output_type": "stream",
     "text": [
      "hello"
     ]
    },
    {
     "name": "stderr",
     "output_type": "stream",
     "text": [
      "also installing the dependencies ‘Kendall’, ‘VGAM’\n",
      "\n"
     ]
    },
    {
     "name": "stdout",
     "output_type": "stream",
     "text": [
      "\n",
      "The downloaded binary packages are in\n",
      "\t/var/folders/st/6s10vbx92qq3s8nlpdgjnxp40000gn/T//RtmpbUq70l/downloaded_packages\n"
     ]
    }
   ],
   "source": [
    "cat(\"hello\")\n",
    "#install.packages(\"NSM3\") #for Steel-Dwass法\n",
    "#install.packages(\"dtplyr\")\n",
    "#install.packages(\"svglite\")\n",
    "#install.packages(\"coin\") # for Wilcoxon-Mann-Whitney検定\n",
    "install.packages(\"lawstat\") # for Brunner-Munzel 検定"
   ]
  },
  {
   "cell_type": "code",
   "execution_count": 286,
   "metadata": {
    "collapsed": false
   },
   "outputs": [
    {
     "name": "stderr",
     "output_type": "stream",
     "text": [
      "Warning message:\n",
      "“package ‘lawstat’ was built under R version 3.3.2”Loading required package: Hmisc\n",
      "Loading required package: lattice\n",
      "Loading required package: Formula\n",
      "\n",
      "Attaching package: ‘Hmisc’\n",
      "\n",
      "The following objects are masked from ‘package:dplyr’:\n",
      "\n",
      "    combine, src, summarize\n",
      "\n",
      "The following objects are masked from ‘package:base’:\n",
      "\n",
      "    format.pval, round.POSIXt, trunc.POSIXt, units\n",
      "\n",
      "Loading required package: Kendall\n",
      "Loading required package: mvtnorm\n",
      "Loading required package: VGAM\n",
      "Warning message:\n",
      "“package ‘VGAM’ was built under R version 3.3.2”Loading required package: stats4\n",
      "Loading required package: splines\n"
     ]
    }
   ],
   "source": [
    "library(NSM3)\n",
    "library(coin)\n",
    "library(lawstat)\n",
    "library(ggplot2)\n",
    "library(dtplyr) #data.table + dplyr code now lives in dtplyr.\n",
    "#library(data.table)\n",
    "#library(dplyr)\n",
    "#library(reshape2)"
   ]
  },
  {
   "cell_type": "code",
   "execution_count": 4,
   "metadata": {
    "collapsed": false,
    "scrolled": true
   },
   "outputs": [],
   "source": [
    "in_file <- \"../../analysis/CRE/sorted_removed-HXB2_mafft-linsi_with-HXB2_A,B,C_HIV-1-gM-noRs_pol-aa_v3/CRE_region_array.csv\"\n",
    "data <- read.table(in_file, header = T, sep = \",\")"
   ]
  },
  {
   "cell_type": "code",
   "execution_count": 39,
   "metadata": {
    "collapsed": false
   },
   "outputs": [
    {
     "name": "stdout",
     "output_type": "stream",
     "text": [
      "'data.frame':\t763 obs. of  3 variables:\n",
      " $ X          : int  0 1 2 3 4 5 6 7 8 9 ...\n",
      " $ CRE        : num  3.24e-04 9.72e-05 1.64e-04 2.42e-05 4.34e-05 ...\n",
      " $ region_name: Factor w/ 8 levels \"IN_DBD_C\",\"Integrase_Zn\",..: 5 5 5 5 5 5 5 5 5 5 ...\n"
     ]
    }
   ],
   "source": [
    "str(data)"
   ]
  },
  {
   "cell_type": "code",
   "execution_count": 8,
   "metadata": {
    "collapsed": false
   },
   "outputs": [
    {
     "data": {
      "text/plain": [
       "\n",
       "\tKruskal-Wallis rank sum test\n",
       "\n",
       "data:  data$CRE by data$region_name\n",
       "Kruskal-Wallis chi-squared = 20.928, df = 7, p-value = 0.003879\n"
      ]
     },
     "metadata": {},
     "output_type": "display_data"
    }
   ],
   "source": [
    "#クラスカル・ウォリス検定（対応の無い多群の差の検定）\n",
    "kruskal.test(data$CRE ~ data$region_name)"
   ]
  },
  {
   "cell_type": "code",
   "execution_count": 13,
   "metadata": {
    "collapsed": false
   },
   "outputs": [
    {
     "data": {
      "text/plain": [
       "Ties are present, so p-values are based on conditional null distribution. \n",
       "Group sizes: 50 38 122 107 95 174 107 70 \n",
       "Using the Asymptotic method: \n",
       " \n",
       "For treatments IN_DBD_C - Integrase_Zn, the Dwass, Steel, Critchlow-Fligner W Statistic is 0.5123. \n",
       "The smallest experimentwise error rate leading to rejection is 1 .\n",
       "  \n",
       "For treatments IN_DBD_C - RNase_H, the Dwass, Steel, Critchlow-Fligner W Statistic is -0.5532. \n",
       "The smallest experimentwise error rate leading to rejection is 0.9999 .\n",
       "  \n",
       "For treatments IN_DBD_C - rve, the Dwass, Steel, Critchlow-Fligner W Statistic is -2.6216. \n",
       "The smallest experimentwise error rate leading to rejection is 0.583 .\n",
       "  \n",
       "For treatments IN_DBD_C - RVP, the Dwass, Steel, Critchlow-Fligner W Statistic is 0.0353. \n",
       "The smallest experimentwise error rate leading to rejection is 1 .\n",
       "  \n",
       "For treatments IN_DBD_C - RVT_1, the Dwass, Steel, Critchlow-Fligner W Statistic is -2.5246. \n",
       "The smallest experimentwise error rate leading to rejection is 0.6303 .\n",
       "  \n",
       "For treatments IN_DBD_C - RVT_connect, the Dwass, Steel, Critchlow-Fligner W Statistic is 1.2576. \n",
       "The smallest experimentwise error rate leading to rejection is 0.9871 .\n",
       "  \n",
       "For treatments IN_DBD_C - RVT_thumb, the Dwass, Steel, Critchlow-Fligner W Statistic is -1.9726. \n",
       "The smallest experimentwise error rate leading to rejection is 0.86 .\n",
       "  \n",
       "For treatments Integrase_Zn - RNase_H, the Dwass, Steel, Critchlow-Fligner W Statistic is -1.2645. \n",
       "The smallest experimentwise error rate leading to rejection is 0.9867 .\n",
       "  \n",
       "For treatments Integrase_Zn - rve, the Dwass, Steel, Critchlow-Fligner W Statistic is -2.9694. \n",
       "The smallest experimentwise error rate leading to rejection is 0.4154 .\n",
       "  \n",
       "For treatments Integrase_Zn - RVP, the Dwass, Steel, Critchlow-Fligner W Statistic is -0.5353. \n",
       "The smallest experimentwise error rate leading to rejection is 0.9999 .\n",
       "  \n",
       "For treatments Integrase_Zn - RVT_1, the Dwass, Steel, Critchlow-Fligner W Statistic is -3.1291. \n",
       "The smallest experimentwise error rate leading to rejection is 0.3442 .\n",
       "  \n",
       "For treatments Integrase_Zn - RVT_connect, the Dwass, Steel, Critchlow-Fligner W Statistic is 0.4133. \n",
       "The smallest experimentwise error rate leading to rejection is 1 .\n",
       "  \n",
       "For treatments Integrase_Zn - RVT_thumb, the Dwass, Steel, Critchlow-Fligner W Statistic is -2.5113. \n",
       "The smallest experimentwise error rate leading to rejection is 0.6371 .\n",
       "  \n",
       "For treatments RNase_H - rve, the Dwass, Steel, Critchlow-Fligner W Statistic is -2.6082. \n",
       "The smallest experimentwise error rate leading to rejection is 0.5899 .\n",
       "  \n",
       "For treatments RNase_H - RVP, the Dwass, Steel, Critchlow-Fligner W Statistic is 0.6827. \n",
       "The smallest experimentwise error rate leading to rejection is 0.9997 .\n",
       "  \n",
       "For treatments RNase_H - RVT_1, the Dwass, Steel, Critchlow-Fligner W Statistic is -2.6457. \n",
       "The smallest experimentwise error rate leading to rejection is 0.5713 .\n",
       "  \n",
       "For treatments RNase_H - RVT_connect, the Dwass, Steel, Critchlow-Fligner W Statistic is 2.3297. \n",
       "The smallest experimentwise error rate leading to rejection is 0.7214 .\n",
       "  \n",
       "For treatments RNase_H - RVT_thumb, the Dwass, Steel, Critchlow-Fligner W Statistic is -2.0263. \n",
       "The smallest experimentwise error rate leading to rejection is 0.8425 .\n",
       "  \n",
       "For treatments rve - RVP, the Dwass, Steel, Critchlow-Fligner W Statistic is 2.8204. \n",
       "The smallest experimentwise error rate leading to rejection is 0.4861 .\n",
       "  \n",
       "For treatments rve - RVT_1, the Dwass, Steel, Critchlow-Fligner W Statistic is 0.1048. \n",
       "The smallest experimentwise error rate leading to rejection is 1 .\n",
       "  \n",
       "For treatments rve - RVT_connect, the Dwass, Steel, Critchlow-Fligner W Statistic is 4.4028. \n",
       "The smallest experimentwise error rate leading to rejection is 0.0391 .\n",
       "  \n",
       "For treatments rve - RVT_thumb, the Dwass, Steel, Critchlow-Fligner W Statistic is -0.0424. \n",
       "The smallest experimentwise error rate leading to rejection is 1 .\n",
       "  \n",
       "For treatments RVP - RVT_1, the Dwass, Steel, Critchlow-Fligner W Statistic is -3.0923. \n",
       "The smallest experimentwise error rate leading to rejection is 0.3601 .\n",
       "  \n",
       "For treatments RVP - RVT_connect, the Dwass, Steel, Critchlow-Fligner W Statistic is 1.2755. \n",
       "The smallest experimentwise error rate leading to rejection is 0.986 .\n",
       "  \n",
       "For treatments RVP - RVT_thumb, the Dwass, Steel, Critchlow-Fligner W Statistic is -2.3548. \n",
       "The smallest experimentwise error rate leading to rejection is 0.7101 .\n",
       "  \n",
       "For treatments RVT_1 - RVT_connect, the Dwass, Steel, Critchlow-Fligner W Statistic is 4.8363. \n",
       "The smallest experimentwise error rate leading to rejection is 0.0145 .\n",
       "  \n",
       "For treatments RVT_1 - RVT_thumb, the Dwass, Steel, Critchlow-Fligner W Statistic is -0.1021. \n",
       "The smallest experimentwise error rate leading to rejection is 1 .\n",
       "  \n",
       "For treatments RVT_connect - RVT_thumb, the Dwass, Steel, Critchlow-Fligner W Statistic is -3.628. \n",
       "The smallest experimentwise error rate leading to rejection is 0.1688 .\n",
       "  "
      ]
     },
     "metadata": {},
     "output_type": "display_data"
    }
   ],
   "source": [
    "#Steel-Dwass法 (すべての2群同士を比較する検定)\n",
    "#library(NSM3)\n",
    "pSDCFlig(data$CRE, data$region_name, method=\"Asymptotic\") #漸近法. 正確検定はlistサイズが大きすぎるとのエラー."
   ]
  },
  {
   "cell_type": "code",
   "execution_count": 309,
   "metadata": {
    "collapsed": false
   },
   "outputs": [
    {
     "data": {
      "text/html": [
       "0.367742282156757"
      ],
      "text/latex": [
       "0.367742282156757"
      ],
      "text/markdown": [
       "0.367742282156757"
      ],
      "text/plain": [
       "[1] 0.3677423"
      ]
     },
     "metadata": {},
     "output_type": "display_data"
    },
    {
     "data": {
      "text/html": [
       "0.000628505823620847"
      ],
      "text/latex": [
       "0.000628505823620847"
      ],
      "text/markdown": [
       "0.000628505823620847"
      ],
      "text/plain": [
       "[1] 0.0006285058"
      ]
     },
     "metadata": {},
     "output_type": "display_data"
    },
    {
     "data": {
      "text/html": [
       "0.0103499143022549"
      ],
      "text/latex": [
       "0.0103499143022549"
      ],
      "text/markdown": [
       "0.0103499143022549"
      ],
      "text/plain": [
       "[1] 0.01034991"
      ]
     },
     "metadata": {},
     "output_type": "display_data"
    },
    {
     "data": {
      "text/html": [
       "0.0996928860436614"
      ],
      "text/latex": [
       "0.0996928860436614"
      ],
      "text/markdown": [
       "0.0996928860436614"
      ],
      "text/plain": [
       "[1] 0.09969289"
      ]
     },
     "metadata": {},
     "output_type": "display_data"
    },
    {
     "data": {
      "text/html": [
       "0.771815842898818"
      ],
      "text/latex": [
       "0.771815842898818"
      ],
      "text/markdown": [
       "0.771815842898818"
      ],
      "text/plain": [
       "[1] 0.7718158"
      ]
     },
     "metadata": {},
     "output_type": "display_data"
    },
    {
     "data": {
      "text/html": [
       "0.0018575279762541"
      ],
      "text/latex": [
       "0.0018575279762541"
      ],
      "text/markdown": [
       "0.0018575279762541"
      ],
      "text/plain": [
       "[1] 0.001857528"
      ]
     },
     "metadata": {},
     "output_type": "display_data"
    },
    {
     "data": {
      "text/html": [
       "0.374890492230108"
      ],
      "text/latex": [
       "0.374890492230108"
      ],
      "text/markdown": [
       "0.374890492230108"
      ],
      "text/plain": [
       "[1] 0.3748905"
      ]
     },
     "metadata": {},
     "output_type": "display_data"
    }
   ],
   "source": [
    "#マン・ホイットニーのU検定 Mann–Whitney U test\n",
    "#正規分布による近似\n",
    "wilcox.test( data$CRE[data$region_name==\"RVT_connect\"] ,data$CRE[data$region_name==\"RVP\"], paired=F)$p.value\n",
    "wilcox.test( data$CRE[data$region_name==\"RVT_connect\"] ,data$CRE[data$region_name==\"RVT_1\"], paired=F)$p.value\n",
    "wilcox.test( data$CRE[data$region_name==\"RVT_connect\"] ,data$CRE[data$region_name==\"RVT_thumb\"], paired=F)$p.value\n",
    "wilcox.test( data$CRE[data$region_name==\"RVT_connect\"] ,data$CRE[data$region_name==\"RNase_H\"], paired=F)$p.value\n",
    "wilcox.test( data$CRE[data$region_name==\"RVT_connect\"] ,data$CRE[data$region_name==\"Integrase_Zn\"], paired=F)$p.value\n",
    "wilcox.test( data$CRE[data$region_name==\"RVT_connect\"] ,data$CRE[data$region_name==\"rve\"], paired=F)$p.value\n",
    "wilcox.test( data$CRE[data$region_name==\"RVT_connect\"] ,data$CRE[data$region_name==\"IN_DBD_C\"], paired=F)$p.value"
   ]
  },
  {
   "cell_type": "code",
   "execution_count": 310,
   "metadata": {
    "collapsed": false,
    "scrolled": false
   },
   "outputs": [
    {
     "data": {
      "text/plain": [
       "\n",
       "\tExact Wilcoxon-Mann-Whitney Test\n",
       "\n",
       "data:  c(x, y) by\n",
       "\t factor(c(rep(\"x\", length(x)), rep(\"y\", length(y)))) (x, y)\n",
       "Z = 0.90192, p-value = 0.3682\n",
       "alternative hypothesis: true mu is not equal to 0\n"
      ]
     },
     "metadata": {},
     "output_type": "display_data"
    },
    {
     "data": {
      "text/plain": [
       "\n",
       "\tExact Wilcoxon-Mann-Whitney Test\n",
       "\n",
       "data:  c(x, y) by\n",
       "\t factor(c(rep(\"x\", length(x)), rep(\"y\", length(y)))) (x, y)\n",
       "Z = 3.4198, p-value = 0.0005883\n",
       "alternative hypothesis: true mu is not equal to 0\n"
      ]
     },
     "metadata": {},
     "output_type": "display_data"
    },
    {
     "data": {
      "text/plain": [
       "\n",
       "\tExact Wilcoxon-Mann-Whitney Test\n",
       "\n",
       "data:  c(x, y) by\n",
       "\t factor(c(rep(\"x\", length(x)), rep(\"y\", length(y)))) (x, y)\n",
       "Z = 2.5654, p-value = 0.0101\n",
       "alternative hypothesis: true mu is not equal to 0\n"
      ]
     },
     "metadata": {},
     "output_type": "display_data"
    },
    {
     "data": {
      "text/plain": [
       "\n",
       "\tExact Wilcoxon-Mann-Whitney Test\n",
       "\n",
       "data:  c(x, y) by\n",
       "\t factor(c(rep(\"x\", length(x)), rep(\"y\", length(y)))) (x, y)\n",
       "Z = 1.6473, p-value = 0.09976\n",
       "alternative hypothesis: true mu is not equal to 0\n"
      ]
     },
     "metadata": {},
     "output_type": "display_data"
    },
    {
     "data": {
      "text/plain": [
       "\n",
       "\tExact Wilcoxon-Mann-Whitney Test\n",
       "\n",
       "data:  c(x, y) by\n",
       "\t factor(c(rep(\"x\", length(x)), rep(\"y\", length(y)))) (x, y)\n",
       "Z = 0.29225, p-value = 0.7728\n",
       "alternative hypothesis: true mu is not equal to 0\n"
      ]
     },
     "metadata": {},
     "output_type": "display_data"
    },
    {
     "data": {
      "text/plain": [
       "\n",
       "\tExact Wilcoxon-Mann-Whitney Test\n",
       "\n",
       "data:  c(x, y) by\n",
       "\t factor(c(rep(\"x\", length(x)), rep(\"y\", length(y)))) (x, y)\n",
       "Z = 3.1132, p-value = 0.001762\n",
       "alternative hypothesis: true mu is not equal to 0\n"
      ]
     },
     "metadata": {},
     "output_type": "display_data"
    },
    {
     "data": {
      "text/plain": [
       "\n",
       "\tExact Wilcoxon-Mann-Whitney Test\n",
       "\n",
       "data:  c(x, y) by\n",
       "\t factor(c(rep(\"x\", length(x)), rep(\"y\", length(y)))) (x, y)\n",
       "Z = 0.88923, p-value = 0.3761\n",
       "alternative hypothesis: true mu is not equal to 0\n"
      ]
     },
     "metadata": {},
     "output_type": "display_data"
    },
    {
     "name": "stdout",
     "output_type": "stream",
     "text": [
      "------------"
     ]
    },
    {
     "data": {
      "text/plain": [
       "\n",
       "\tExact Wilcoxon-Mann-Whitney Test\n",
       "\n",
       "data:  c(x, y) by\n",
       "\t factor(c(rep(\"x\", length(x)), rep(\"y\", length(y)))) (x, y)\n",
       "Z = -0.48272, p-value = 0.6304\n",
       "alternative hypothesis: true mu is not equal to 0\n"
      ]
     },
     "metadata": {},
     "output_type": "display_data"
    },
    {
     "data": {
      "text/plain": [
       "\n",
       "\tExact Wilcoxon-Mann-Whitney Test\n",
       "\n",
       "data:  c(x, y) by\n",
       "\t factor(c(rep(\"x\", length(x)), rep(\"y\", length(y)))) (x, y)\n",
       "Z = 1.8708, p-value = 0.06136\n",
       "alternative hypothesis: true mu is not equal to 0\n"
      ]
     },
     "metadata": {},
     "output_type": "display_data"
    },
    {
     "data": {
      "text/plain": [
       "\n",
       "\tExact Wilcoxon-Mann-Whitney Test\n",
       "\n",
       "data:  c(x, y) by\n",
       "\t factor(c(rep(\"x\", length(x)), rep(\"y\", length(y)))) (x, y)\n",
       "Z = 1.4328, p-value = 0.1524\n",
       "alternative hypothesis: true mu is not equal to 0\n"
      ]
     },
     "metadata": {},
     "output_type": "display_data"
    },
    {
     "data": {
      "text/plain": [
       "\n",
       "\tExact Wilcoxon-Mann-Whitney Test\n",
       "\n",
       "data:  c(x, y) by\n",
       "\t factor(c(rep(\"x\", length(x)), rep(\"y\", length(y)))) (x, y)\n",
       "Z = -1.6473, p-value = 0.09976\n",
       "alternative hypothesis: true mu is not equal to 0\n"
      ]
     },
     "metadata": {},
     "output_type": "display_data"
    },
    {
     "data": {
      "text/plain": [
       "\n",
       "\tExact Wilcoxon-Mann-Whitney Test\n",
       "\n",
       "data:  c(x, y) by\n",
       "\t factor(c(rep(\"x\", length(x)), rep(\"y\", length(y)))) (x, y)\n",
       "Z = -0.89415, p-value = 0.3738\n",
       "alternative hypothesis: true mu is not equal to 0\n"
      ]
     },
     "metadata": {},
     "output_type": "display_data"
    },
    {
     "data": {
      "text/plain": [
       "\n",
       "\tExact Wilcoxon-Mann-Whitney Test\n",
       "\n",
       "data:  c(x, y) by\n",
       "\t factor(c(rep(\"x\", length(x)), rep(\"y\", length(y)))) (x, y)\n",
       "Z = 1.8443, p-value = 0.06515\n",
       "alternative hypothesis: true mu is not equal to 0\n"
      ]
     },
     "metadata": {},
     "output_type": "display_data"
    },
    {
     "data": {
      "text/plain": [
       "\n",
       "\tExact Wilcoxon-Mann-Whitney Test\n",
       "\n",
       "data:  c(x, y) by\n",
       "\t factor(c(rep(\"x\", length(x)), rep(\"y\", length(y)))) (x, y)\n",
       "Z = -0.39117, p-value = 0.6973\n",
       "alternative hypothesis: true mu is not equal to 0\n"
      ]
     },
     "metadata": {},
     "output_type": "display_data"
    }
   ],
   "source": [
    "#正確検定 library(coin)による (#マン・ホイットニーのU検定)\n",
    "x <- data$CRE[data$region_name==\"RVT_connect\"]\n",
    "\n",
    "y <- data$CRE[data$region_name==\"RVP\"]\n",
    "wilcox_test(c(x,y) ~ factor(c(rep(\"x\",length(x)),rep(\"y\",length(y)))), distribution=\"exact\")\n",
    "y <- data$CRE[data$region_name==\"RVT_1\"]\n",
    "wilcox_test(c(x,y) ~ factor(c(rep(\"x\",length(x)),rep(\"y\",length(y)))), distribution=\"exact\")\n",
    "y <- data$CRE[data$region_name==\"RVT_thumb\"]\n",
    "wilcox_test(c(x,y) ~ factor(c(rep(\"x\",length(x)),rep(\"y\",length(y)))), distribution=\"exact\")\n",
    "y <- data$CRE[data$region_name==\"RNase_H\"]\n",
    "wilcox_test(c(x,y) ~ factor(c(rep(\"x\",length(x)),rep(\"y\",length(y)))), distribution=\"exact\")\n",
    "y <- data$CRE[data$region_name==\"Integrase_Zn\"]\n",
    "wilcox_test(c(x,y) ~ factor(c(rep(\"x\",length(x)),rep(\"y\",length(y)))), distribution=\"exact\")\n",
    "y <- data$CRE[data$region_name==\"rve\"]\n",
    "wilcox_test(c(x,y) ~ factor(c(rep(\"x\",length(x)),rep(\"y\",length(y)))), distribution=\"exact\")\n",
    "y <- data$CRE[data$region_name==\"IN_DBD_C\"]\n",
    "wilcox_test(c(x,y) ~ factor(c(rep(\"x\",length(x)),rep(\"y\",length(y)))), distribution=\"exact\")\n",
    "\n",
    "cat(\"------------\")\n",
    "\n",
    "x <- data$CRE[data$region_name==\"RNase_H\"]\n",
    "\n",
    "y <- data$CRE[data$region_name==\"RVP\"]\n",
    "wilcox_test(c(x,y) ~ factor(c(rep(\"x\",length(x)),rep(\"y\",length(y)))), distribution=\"exact\")\n",
    "y <- data$CRE[data$region_name==\"RVT_1\"]\n",
    "wilcox_test(c(x,y) ~ factor(c(rep(\"x\",length(x)),rep(\"y\",length(y)))), distribution=\"exact\")\n",
    "y <- data$CRE[data$region_name==\"RVT_thumb\"]\n",
    "wilcox_test(c(x,y) ~ factor(c(rep(\"x\",length(x)),rep(\"y\",length(y)))), distribution=\"exact\")\n",
    "y <- data$CRE[data$region_name==\"RVT_connect\"]\n",
    "wilcox_test(c(x,y) ~ factor(c(rep(\"x\",length(x)),rep(\"y\",length(y)))), distribution=\"exact\")\n",
    "y <- data$CRE[data$region_name==\"Integrase_Zn\"]\n",
    "wilcox_test(c(x,y) ~ factor(c(rep(\"x\",length(x)),rep(\"y\",length(y)))), distribution=\"exact\")\n",
    "y <- data$CRE[data$region_name==\"rve\"]\n",
    "wilcox_test(c(x,y) ~ factor(c(rep(\"x\",length(x)),rep(\"y\",length(y)))), distribution=\"exact\")\n",
    "y <- data$CRE[data$region_name==\"IN_DBD_C\"]\n",
    "wilcox_test(c(x,y) ~ factor(c(rep(\"x\",length(x)),rep(\"y\",length(y)))), distribution=\"exact\")"
   ]
  },
  {
   "cell_type": "code",
   "execution_count": 311,
   "metadata": {
    "collapsed": false
   },
   "outputs": [
    {
     "data": {
      "text/html": [
       "0.368819623763958"
      ],
      "text/latex": [
       "0.368819623763958"
      ],
      "text/markdown": [
       "0.368819623763958"
      ],
      "text/plain": [
       "[1] 0.3688196"
      ]
     },
     "metadata": {},
     "output_type": "display_data"
    },
    {
     "data": {
      "text/html": [
       "0.000526988955107832"
      ],
      "text/latex": [
       "0.000526988955107832"
      ],
      "text/markdown": [
       "0.000526988955107832"
      ],
      "text/plain": [
       "[1] 0.000526989"
      ]
     },
     "metadata": {},
     "output_type": "display_data"
    },
    {
     "data": {
      "text/html": [
       "0.0103067871092057"
      ],
      "text/latex": [
       "0.0103067871092057"
      ],
      "text/markdown": [
       "0.0103067871092057"
      ],
      "text/plain": [
       "[1] 0.01030679"
      ]
     },
     "metadata": {},
     "output_type": "display_data"
    },
    {
     "data": {
      "text/html": [
       "0.0999441471269815"
      ],
      "text/latex": [
       "0.0999441471269815"
      ],
      "text/markdown": [
       "0.0999441471269815"
      ],
      "text/plain": [
       "[1] 0.09994415"
      ]
     },
     "metadata": {},
     "output_type": "display_data"
    },
    {
     "data": {
      "text/html": [
       "0.763407003188455"
      ],
      "text/latex": [
       "0.763407003188455"
      ],
      "text/markdown": [
       "0.763407003188455"
      ],
      "text/plain": [
       "[1] 0.763407"
      ]
     },
     "metadata": {},
     "output_type": "display_data"
    },
    {
     "data": {
      "text/html": [
       "0.00155288293936828"
      ],
      "text/latex": [
       "0.00155288293936828"
      ],
      "text/markdown": [
       "0.00155288293936828"
      ],
      "text/plain": [
       "[1] 0.001552883"
      ]
     },
     "metadata": {},
     "output_type": "display_data"
    },
    {
     "data": {
      "text/html": [
       "0.374098759341815"
      ],
      "text/latex": [
       "0.374098759341815"
      ],
      "text/markdown": [
       "0.374098759341815"
      ],
      "text/plain": [
       "[1] 0.3740988"
      ]
     },
     "metadata": {},
     "output_type": "display_data"
    },
    {
     "name": "stdout",
     "output_type": "stream",
     "text": [
      "------------"
     ]
    },
    {
     "data": {
      "text/html": [
       "0.634416506677398"
      ],
      "text/latex": [
       "0.634416506677398"
      ],
      "text/markdown": [
       "0.634416506677398"
      ],
      "text/plain": [
       "[1] 0.6344165"
      ]
     },
     "metadata": {},
     "output_type": "display_data"
    },
    {
     "data": {
      "text/html": [
       "0.0595771269777168"
      ],
      "text/latex": [
       "0.0595771269777168"
      ],
      "text/markdown": [
       "0.0595771269777168"
      ],
      "text/plain": [
       "[1] 0.05957713"
      ]
     },
     "metadata": {},
     "output_type": "display_data"
    },
    {
     "data": {
      "text/html": [
       "0.161546373787782"
      ],
      "text/latex": [
       "0.161546373787782"
      ],
      "text/markdown": [
       "0.161546373787782"
      ],
      "text/plain": [
       "[1] 0.1615464"
      ]
     },
     "metadata": {},
     "output_type": "display_data"
    },
    {
     "data": {
      "text/html": [
       "0.0999441471269815"
      ],
      "text/latex": [
       "0.0999441471269815"
      ],
      "text/markdown": [
       "0.0999441471269815"
      ],
      "text/plain": [
       "[1] 0.09994415"
      ]
     },
     "metadata": {},
     "output_type": "display_data"
    },
    {
     "data": {
      "text/html": [
       "0.359692737149182"
      ],
      "text/latex": [
       "0.359692737149182"
      ],
      "text/markdown": [
       "0.359692737149182"
      ],
      "text/plain": [
       "[1] 0.3596927"
      ]
     },
     "metadata": {},
     "output_type": "display_data"
    },
    {
     "data": {
      "text/html": [
       "0.0649845407944065"
      ],
      "text/latex": [
       "0.0649845407944065"
      ],
      "text/markdown": [
       "0.0649845407944065"
      ],
      "text/plain": [
       "[1] 0.06498454"
      ]
     },
     "metadata": {},
     "output_type": "display_data"
    },
    {
     "data": {
      "text/html": [
       "0.696978693564766"
      ],
      "text/latex": [
       "0.696978693564766"
      ],
      "text/markdown": [
       "0.696978693564766"
      ],
      "text/plain": [
       "[1] 0.6969787"
      ]
     },
     "metadata": {},
     "output_type": "display_data"
    }
   ],
   "source": [
    "#Brunner-Munzel 検定\n",
    "brunner.munzel.test( data$CRE[data$region_name==\"RVT_connect\"] ,data$CRE[data$region_name==\"RVP\"])$p.value\n",
    "brunner.munzel.test( data$CRE[data$region_name==\"RVT_connect\"] ,data$CRE[data$region_name==\"RVT_1\"])$p.value\n",
    "brunner.munzel.test( data$CRE[data$region_name==\"RVT_connect\"] ,data$CRE[data$region_name==\"RVT_thumb\"])$p.value\n",
    "brunner.munzel.test( data$CRE[data$region_name==\"RVT_connect\"] ,data$CRE[data$region_name==\"RNase_H\"])$p.value\n",
    "brunner.munzel.test( data$CRE[data$region_name==\"RVT_connect\"] ,data$CRE[data$region_name==\"Integrase_Zn\"])$p.value\n",
    "brunner.munzel.test( data$CRE[data$region_name==\"RVT_connect\"] ,data$CRE[data$region_name==\"rve\"])$p.value\n",
    "brunner.munzel.test( data$CRE[data$region_name==\"RVT_connect\"] ,data$CRE[data$region_name==\"IN_DBD_C\"])$p.value\n",
    "\n",
    "cat(\"------------\")\n",
    "brunner.munzel.test( data$CRE[data$region_name==\"RNase_H\"] ,data$CRE[data$region_name==\"RVP\"])$p.value\n",
    "brunner.munzel.test( data$CRE[data$region_name==\"RNase_H\"] ,data$CRE[data$region_name==\"RVT_1\"])$p.value\n",
    "brunner.munzel.test( data$CRE[data$region_name==\"RNase_H\"] ,data$CRE[data$region_name==\"RVT_thumb\"])$p.value\n",
    "brunner.munzel.test( data$CRE[data$region_name==\"RNase_H\"] ,data$CRE[data$region_name==\"RVT_connect\"])$p.value\n",
    "brunner.munzel.test( data$CRE[data$region_name==\"RNase_H\"] ,data$CRE[data$region_name==\"Integrase_Zn\"])$p.value\n",
    "brunner.munzel.test( data$CRE[data$region_name==\"RNase_H\"] ,data$CRE[data$region_name==\"rve\"])$p.value\n",
    "brunner.munzel.test( data$CRE[data$region_name==\"RNase_H\"] ,data$CRE[data$region_name==\"IN_DBD_C\"])$p.value"
   ]
  },
  {
   "cell_type": "code",
   "execution_count": 121,
   "metadata": {
    "collapsed": false
   },
   "outputs": [
    {
     "data": {
      "text/html": [
       "<table>\n",
       "<thead><tr><th scope=col>region_name</th><th scope=col>mean</th><th scope=col>sd</th><th scope=col>n</th><th scope=col>se</th><th scope=col>ci95</th></tr></thead>\n",
       "<tbody>\n",
       "\t<tr><td>IN_DBD_C    </td><td>0.004159896 </td><td>0.006605749 </td><td> 50         </td><td>0.0009341940</td><td>0.001876384 </td></tr>\n",
       "\t<tr><td>Integrase_Zn</td><td>0.003807511 </td><td>0.005544248 </td><td> 38         </td><td>0.0008993958</td><td>0.001820732 </td></tr>\n",
       "\t<tr><td>RNase_H     </td><td>0.007664360 </td><td>0.023231904 </td><td>122         </td><td>0.0021033178</td><td>0.004163728 </td></tr>\n",
       "\t<tr><td>rve         </td><td>0.005450232 </td><td>0.019258407 </td><td>107         </td><td>0.0018617804</td><td>0.003690763 </td></tr>\n",
       "\t<tr><td>RVP         </td><td>0.006428426 </td><td>0.018640806 </td><td> 95         </td><td>0.0019125063</td><td>0.003796805 </td></tr>\n",
       "\t<tr><td>RVT_1       </td><td>0.005311281 </td><td>0.021188525 </td><td>174         </td><td>0.0016062979</td><td>0.003170336 </td></tr>\n",
       "\t<tr><td>RVT_connect </td><td>0.010300982 </td><td>0.029192458 </td><td>107         </td><td>0.0028221414</td><td>0.005594566 </td></tr>\n",
       "\t<tr><td>RVT_thumb   </td><td>0.004853226 </td><td>0.015707005 </td><td> 70         </td><td>0.0018773462</td><td>0.003744249 </td></tr>\n",
       "</tbody>\n",
       "</table>\n"
      ],
      "text/latex": [
       "\\begin{tabular}{r|llllll}\n",
       " region\\_name & mean & sd & n & se & ci95\\\\\n",
       "\\hline\n",
       "\t IN\\_DBD\\_C     & 0.004159896      & 0.006605749      &  50              & 0.0009341940     & 0.001876384     \\\\\n",
       "\t Integrase\\_Zn & 0.003807511    & 0.005544248    &  38            & 0.0008993958   & 0.001820732   \\\\\n",
       "\t RNase\\_H      & 0.007664360    & 0.023231904    & 122            & 0.0021033178   & 0.004163728   \\\\\n",
       "\t rve          & 0.005450232  & 0.019258407  & 107          & 0.0018617804 & 0.003690763 \\\\\n",
       "\t RVP          & 0.006428426  & 0.018640806  &  95          & 0.0019125063 & 0.003796805 \\\\\n",
       "\t RVT\\_1        & 0.005311281    & 0.021188525    & 174            & 0.0016062979   & 0.003170336   \\\\\n",
       "\t RVT\\_connect  & 0.010300982    & 0.029192458    & 107            & 0.0028221414   & 0.005594566   \\\\\n",
       "\t RVT\\_thumb    & 0.004853226    & 0.015707005    &  70            & 0.0018773462   & 0.003744249   \\\\\n",
       "\\end{tabular}\n"
      ],
      "text/markdown": [
       "\n",
       "region_name | mean | sd | n | se | ci95 | \n",
       "|---|---|---|---|---|---|---|---|\n",
       "| IN_DBD_C     | 0.004159896  | 0.006605749  |  50          | 0.0009341940 | 0.001876384  | \n",
       "| Integrase_Zn | 0.003807511  | 0.005544248  |  38          | 0.0008993958 | 0.001820732  | \n",
       "| RNase_H      | 0.007664360  | 0.023231904  | 122          | 0.0021033178 | 0.004163728  | \n",
       "| rve          | 0.005450232  | 0.019258407  | 107          | 0.0018617804 | 0.003690763  | \n",
       "| RVP          | 0.006428426  | 0.018640806  |  95          | 0.0019125063 | 0.003796805  | \n",
       "| RVT_1        | 0.005311281  | 0.021188525  | 174          | 0.0016062979 | 0.003170336  | \n",
       "| RVT_connect  | 0.010300982  | 0.029192458  | 107          | 0.0028221414 | 0.005594566  | \n",
       "| RVT_thumb    | 0.004853226  | 0.015707005  |  70          | 0.0018773462 | 0.003744249  | \n",
       "\n",
       "\n"
      ],
      "text/plain": [
       "  region_name  mean        sd          n   se           ci95       \n",
       "1 IN_DBD_C     0.004159896 0.006605749  50 0.0009341940 0.001876384\n",
       "2 Integrase_Zn 0.003807511 0.005544248  38 0.0008993958 0.001820732\n",
       "3 RNase_H      0.007664360 0.023231904 122 0.0021033178 0.004163728\n",
       "4 rve          0.005450232 0.019258407 107 0.0018617804 0.003690763\n",
       "5 RVP          0.006428426 0.018640806  95 0.0019125063 0.003796805\n",
       "6 RVT_1        0.005311281 0.021188525 174 0.0016062979 0.003170336\n",
       "7 RVT_connect  0.010300982 0.029192458 107 0.0028221414 0.005594566\n",
       "8 RVT_thumb    0.004853226 0.015707005  70 0.0018773462 0.003744249"
      ]
     },
     "metadata": {},
     "output_type": "display_data"
    }
   ],
   "source": [
    "#for plot\n",
    "data_stats <- data %>% group_by(region_name) %>% summarize(mean = mean(CRE),\n",
    "                                                             sd = sd(CRE), \n",
    "                                                             n = sum(!is.na(CRE)), \n",
    "                                                             se = sd/sqrt(n))\n",
    "data_stats$ci95 <- data_stats$se *qt(.975, data_stats$n)\n",
    "data_stats\n",
    "#ggplot2のstat_summary()でいろいろ簡単にできる"
   ]
  },
  {
   "cell_type": "code",
   "execution_count": 322,
   "metadata": {
    "collapsed": false
   },
   "outputs": [],
   "source": [
    "p <- ggplot(data_stats, aes(x=region_name, y=mean))\n",
    "p <- p + geom_bar(width = 0.8,　stat = \"identity\", fill=\"#787878\")\n",
    "p <- p + geom_errorbar(\n",
    "  aes(\n",
    "    ymin = mean - se, #下ひげいらね。\n",
    "    ymax = mean + se,\n",
    "    width = 0.15,\n",
    "  ))\n",
    "p <- p + scale_y_continuous(expand = c(0,0), limits = c(0,0.016)) + scale_x_discrete(limits=c(\"RVP\",\"RVT_1\",\"RVT_thumb\",\"RVT_connect\",\"RNase_H\",\"Integrase_Zn\",\"rve\",\"IN_DBD_C\"),\n",
    "                                                                label=c(\"a\",\"b\",\"c\",\"d\",\"e\",\"f\",\"g\",\"h\"))"
   ]
  },
  {
   "cell_type": "code",
   "execution_count": 323,
   "metadata": {
    "collapsed": false,
    "scrolled": false
   },
   "outputs": [],
   "source": [
    "p <- p + xlab(\"Domain regions\") + ylab(\"Mean cumulative relative entropy\")\n",
    "p <- p + theme_classic(base_size = 16, base_family = \"Helvetica\") \n",
    "p <- p + theme(axis.title = element_text(face = \"bold\",size = rel(1)),\n",
    "               axis.title.x = element_text(size = 20, family = \"Helvetica\"),\n",
    "               axis.title.y = element_text(size = 20, family = \"Helvetica\"), \n",
    "               axis.text.x = element_text(size = 18, colour = 1, family = \"Helvetica\"), \n",
    "               axis.text.y = element_text(size = 18, colour = 1, family = \"Helvetica\"),\n",
    "              # plot.margin=unit(c(10,5,5,5),\"mm\"),\n",
    "              )\n",
    "#↑設定の重複とかあるけど勘弁。メモも兼ねてるから..。"
   ]
  },
  {
   "cell_type": "code",
   "execution_count": 324,
   "metadata": {
    "collapsed": false,
    "scrolled": false
   },
   "outputs": [
    {
     "data": {
      "image/png": "[encoded data removed]",
      "text/plain": [
       "plot without title"
      ]
     },
     "metadata": {},
     "output_type": "display_data"
    }
   ],
   "source": [
    "#有意差表記\n",
    "## Steel-Dwass法 (すべての2群同士を比較する検定) による有意差\n",
    "# df1 <- data.frame(a = c(4,4:7,7), b = c(0.0136,0.0138,0.0138,0.0138,0.0138,0.0136)) #rve - RVT_connect 0.0391\n",
    "# df2 <- data.frame(a = c(2,2:4,4), b = c(0.0144,0.0146,0.0146,0.0146,0.0144)) #RVT_1 - RVT_connect 0.014\n",
    "# p <- p + geom_line(data=df1, aes(x = a, y = b)) + annotate(\"text\", x = 5.5, y = 0.014, label = \"*\", size = 8)\n",
    "# p <- p + geom_line(data=df2, aes(x = a, y = b)) + annotate(\"text\", x = 3, y = 0.0148, label = \"*\", size = 8)\n",
    "\n",
    "## Mann–Whitney U test (exact)正確検定\n",
    "df1 <- data.frame(a = c(4,4:7,7), b = c(0.0136,0.0138,0.0138,0.0138,0.0138,0.0136)) #rve 0.001762\n",
    "df2 <- data.frame(a = c(2,2:4,4), b = c(0.0152,0.0154,0.0154,0.0154,0.0152)) #RVT_1 0.0005883\n",
    "df3 <- data.frame(a = c(3,3,4,4), b = c(0.0144,0.0146,0.0146,0.0144)) #RVT_thumb 0.0101\n",
    "p <- p + geom_line(data=df1, aes(x = a, y = b)) + annotate(\"text\", x = 5.5, y = 0.014, label = \"**\", size = 8)\n",
    "p <- p + geom_line(data=df2, aes(x = a, y = b)) + annotate(\"text\", x = 3, y = 0.0156, label = \"***\", size = 8)\n",
    "p <- p + geom_line(data=df3, aes(x = a, y = b)) + annotate(\"text\", x = 3.5, y = 0.0148, label = \"*\", size = 8)\n",
    "\n",
    "plot(p)"
   ]
  },
  {
   "cell_type": "code",
   "execution_count": null,
   "metadata": {
    "collapsed": false,
    "scrolled": false
   },
   "outputs": [],
   "source": []
  },
  {
   "cell_type": "code",
   "execution_count": 325,
   "metadata": {
    "collapsed": false
   },
   "outputs": [
    {
     "name": "stderr",
     "output_type": "stream",
     "text": [
      "Saving 7 x 7 in image\n",
      "Saving 7 x 7 in image\n"
     ]
    }
   ],
   "source": [
    "#ggsave(plot=p, \"../../analysis/CRE/sorted_removed-HXB2_mafft-linsi_with-HXB2_A,B,C_HIV-1-gM-noRs_pol-aa_v3/fig_CRE_region_R_geom_bar_.png\", type = \"cairo-png\")\n",
    "ggsave(plot=p, \"../../analysis/CRE/sorted_removed-HXB2_mafft-linsi_with-HXB2_A,B,C_HIV-1-gM-noRs_pol-aa_v3/fig_CRE_region_R_geom_bar_se.png\")\n",
    "ggsave(plot=p, \"../../analysis/CRE/sorted_removed-HXB2_mafft-linsi_with-HXB2_A,B,C_HIV-1-gM-noRs_pol-aa_v3/fig_CRE_region_R_geom_bar_se.svg\")"
   ]
  },
  {
   "cell_type": "code",
   "execution_count": null,
   "metadata": {
    "collapsed": true
   },
   "outputs": [],
   "source": []
  }
 ],
 "metadata": {
  "anaconda-cloud": {},
  "kernelspec": {
   "display_name": "R",
   "language": "R",
   "name": "ir"
  },
  "language_info": {
   "codemirror_mode": "r",
   "file_extension": ".r",
   "mimetype": "text/x-r-source",
   "name": "R",
   "pygments_lexer": "r",
   "version": "3.3.1"
  }
 },
 "nbformat": 4,
 "nbformat_minor": 2
}
