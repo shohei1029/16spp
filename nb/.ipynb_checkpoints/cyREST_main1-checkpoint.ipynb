{
 "cells": [
  {
   "cell_type": "markdown",
   "metadata": {},
   "source": [
    "2016.3, Shohei Nagata  \n",
    "  \n",
    "Cytoscape 半自動化  \n",
    "** 手動でnode attribute読み込み，着色，weight設定を行う **"
   ]
  },
  {
   "cell_type": "code",
   "execution_count": 1,
   "metadata": {
    "collapsed": false
   },
   "outputs": [
    {
     "name": "stdout",
     "output_type": "stream",
     "text": [
      "{\n",
      "    \"numberOfCores\": 8,\n",
      "    \"apiVersion\": \"v1\",\n",
      "    \"memoryStatus\": {\n",
      "        \"freeMemory\": 4846,\n",
      "        \"maxMemory\": 27079,\n",
      "        \"totalMemory\": 13859,\n",
      "        \"usedMemory\": 9012\n",
      "    }\n",
      "}\n"
     ]
    }
   ],
   "source": [
    "import os\n",
    "import requests\n",
    "import json\n",
    "from py2cytoscape.data.cyrest_client import CyRestClient\n",
    "import networkx as nx\n",
    "from IPython.display import Image\n",
    "\n",
    "cy = CyRestClient()\n",
    "print(json.dumps(cy.status(), indent=4))\n",
    "\n",
    "### json\n",
    "# Basic Setup\n",
    "PORT_NUMBER = 1234\n",
    "\n",
    "# Specify your machine's URL (The IP address of the machine running Cytoscape and cyREST) if you use \n",
    "# Docker or remote server for this notebook.\n",
    "#IP = '192.168.1.1'\n",
    "\n",
    "# If you are running both Notebook server and Cytoscape on a same machine, just use localhost\n",
    "IP = 'localhost'\n",
    "BASE = 'http://' + IP + ':' + str(PORT_NUMBER) + '/v1/'\n",
    "\n",
    "# Header for posting data to the server as JSON\n",
    "HEADERS = {'Content-Type': 'application/json'}"
   ]
  },
  {
   "cell_type": "code",
   "execution_count": 74,
   "metadata": {
    "collapsed": true
   },
   "outputs": [],
   "source": [
    "out_dir_core = \"pol-domains-HXB2-Pfam\"\n",
    "in_sim_file = \"/home/shohei/bio/16spp/analysis/sim/{}/rve_pi92_blastp_1e-5_domains-HXB2-Pfam_A,B,C_HIV-1-gM-noRs_pol-aa_v3.txt\".format(out_dir_core)\n",
    "# in_sim_file = \"/home/shohei/bio/16spp/analysis/sim/{}/A,B,C_pi92_blastp_1e-5_HIV-1-gM-noRs_pol-aa_v3.txt\".format(out_dir_core)\n",
    "# in_sim_file = \"/media/shohei1029/16spp/analysis/sim/{}/A,B,C_pi98_blastp_1e-5_HIV-1-gM-noRs_pol-aa_v3.txt\".format(out_dir_core)"
   ]
  },
  {
   "cell_type": "code",
   "execution_count": 75,
   "metadata": {
    "collapsed": false
   },
   "outputs": [
    {
     "name": "stdout",
     "output_type": "stream",
     "text": [
      "network created: SUID = 16458045\n"
     ]
    }
   ],
   "source": [
    "#readfile_createview_applystyle\n",
    "G=nx.Graph()\n",
    "with open(in_sim_file) as in_txt:\n",
    "    for line in in_txt:\n",
    "        line = line.rstrip()\n",
    "        #source, edge_attr, target = line.split(\" \")\n",
    "        source, target, edge_attr = line.split(\" \")\n",
    "        G.add_edge(source, target, weight=float(edge_attr) )\n",
    "    \n",
    "g_cy = cy.network.create_from_networkx(G)\n",
    "nwkid = g_cy.get_id()\n",
    "print('network created: SUID = ' + str(nwkid))\n",
    "    \n",
    "#create view \n",
    "requests.post(BASE + \"networks/{}/views/\".format(nwkid))\n",
    "\n",
    "#apply style\n",
    "#http://localhost:1234/v1/styles/\n",
    "style_sn = cy.style.create('BioPAX_small_ds') #node size 3.0 (piccadilly) -> 5.0へ\n",
    "cy.style.apply(style_sn, network=g_cy)\n",
    "    \n",
    "#    layouts = cy.layout.get_all()\n",
    "#    print(json.dumps(layouts, indent=4))\n",
    "\n",
    "cy.layout.apply(name='force-directed', network=g_cy)"
   ]
  },
  {
   "cell_type": "code",
   "execution_count": 68,
   "metadata": {
    "collapsed": true
   },
   "outputs": [],
   "source": [
    "#手動でnode attribute読み込み，着色，weight設定，ns30,ew5"
   ]
  },
  {
   "cell_type": "code",
   "execution_count": 69,
   "metadata": {
    "collapsed": false
   },
   "outputs": [],
   "source": [
    "# #手動でネットワーク読み込んだ時用\n",
    "#out_dir_core = \"HIV-1-gM-A,B,C-noRs_pol-aa\" \n",
    "#in_sim_file = \"A,B,C_pi92_blastp_1e-5_HIV-1-gM-noRs_pol-aa_v3.txt\"\n",
    "#nwkid = 2070967\n",
    "\n",
    "#print(in_sim_file)"
   ]
  },
  {
   "cell_type": "code",
   "execution_count": 76,
   "metadata": {
    "collapsed": false
   },
   "outputs": [],
   "source": [
    "# nwkid = 52\n",
    "network_png = requests.get(BASE + \"networks/{}/views/first.png?h=4000\".format(nwkid))\n",
    "network_svg = requests.get(BASE + \"networks/{}/views/first.svg\".format(nwkid))"
   ]
  },
  {
   "cell_type": "code",
   "execution_count": 77,
   "metadata": {
    "collapsed": false
   },
   "outputs": [],
   "source": [
    "#import os\n",
    "os.makedirs(\"/home/shohei/bio/16spp/results/networks/{}\".format(out_dir_core),exist_ok=True)\n",
    "out_file = in_sim_file.split('/')[-1].split('.')[0]\n",
    "Image(network_png.content)\n",
    "#with open(\"/home/shohei/bio/16spp/results/networks/pol-chains/{}_dsc1e-5_dnm1e-5_fdl_ns5.png\".format(out_file), \"wb\") as f:\n",
    "#with open(\"/home/shohei/bio/16spp/results/networks/pol-chains/{}_default_fdl_ns5.png\".format(out_file), \"wb\") as f:\n",
    "# with open(\"/home/shohei/bio/16spp/results/networks/{}/{}_default_fdl_ns30_ew5_+gU_subtypes.png\".format(out_dir_core, out_file), \"wb\") as f:\n",
    "#with open(\"/home/shohei/bio/16spp/results/networks/HIV-1-gM-A,B,C-noRs_nef-aa/{}_dsc1e-5_dnm1e-5_fdl_ns5.png\".format(out_file), \"wb\") as f:\n",
    "# with open(\"/home/shohei/bio/16spp/results/networks/{}/scps-c8_{}_default_fdl_ns5.png\".format(out_dir_core, out_file), \"wb\") as f:\n",
    "# with open(\"/home/shohei/bio/16spp/results/networks/{}/{}_default_fdl_ns5.png\".format(out_dir_core, out_file), \"wb\") as f:\n",
    "# with open(\"/home/shohei/bio/16spp/results/networks/{}/alledges_scps-c6(3)_{}_default_fdl_ns5.png\".format(out_dir_core, out_file), \"wb\") as f:\n",
    "# with open(\"/home/shohei/bio/16spp/results/networks/{}/{}_default_fdl_ns30_ew5_subtypes_1.png\".format(out_dir_core, out_file), \"wb\") as f:\n",
    "with open(\"/home/shohei/bio/16spp/results/networks/{}/{}_default_fdl_ns30_ew5_subtypes.png\".format(out_dir_core, out_file), \"wb\") as f:\n",
    "    f.write(network_png.content)\n",
    "with open(\"/home/shohei/bio/16spp/results/networks/{}/{}_default_fdl_ns30_ew5_subtypes.svg\".format(out_dir_core, out_file), \"wb\") as f:\n",
    "    f.write(network_svg.content)"
   ]
  },
  {
   "cell_type": "code",
   "execution_count": 78,
   "metadata": {
    "collapsed": false
   },
   "outputs": [
    {
     "data": {
      "text/plain": [
       "<Response [200]>"
      ]
     },
     "execution_count": 78,
     "metadata": {},
     "output_type": "execute_result"
    }
   ],
   "source": [
    "#destroy a network\n",
    "requests.delete(BASE + \"networks/{}/\".format(nwkid))"
   ]
  },
  {
   "cell_type": "code",
   "execution_count": 79,
   "metadata": {
    "collapsed": false
   },
   "outputs": [
    {
     "data": {
      "text/plain": [
       "<Response [204]>"
      ]
     },
     "execution_count": 79,
     "metadata": {},
     "output_type": "execute_result"
    }
   ],
   "source": [
    "#FORCE TO RUN GARBAGE COLLECTION TO FREE UP MEMORY\n",
    "requests.get(BASE + \"gc/\")"
   ]
  },
  {
   "cell_type": "code",
   "execution_count": 37,
   "metadata": {
    "collapsed": false
   },
   "outputs": [
    {
     "data": {
      "text/plain": [
       "<Response [200]>"
      ]
     },
     "execution_count": 37,
     "metadata": {},
     "output_type": "execute_result"
    }
   ],
   "source": [
    "#DELETE ALL NETWORKS IN CURRENT SESSION\n",
    "requests.delete(BASE + \"networks/\")"
   ]
  },
  {
   "cell_type": "code",
   "execution_count": 305,
   "metadata": {
    "collapsed": false
   },
   "outputs": [
    {
     "name": "stdout",
     "output_type": "stream",
     "text": [
      "{\n",
      "    \"numberOfCores\": 8,\n",
      "    \"memoryStatus\": {\n",
      "        \"totalMemory\": 4249,\n",
      "        \"maxMemory\": 27079,\n",
      "        \"freeMemory\": 3133,\n",
      "        \"usedMemory\": 1115\n",
      "    },\n",
      "    \"apiVersion\": \"v1\"\n",
      "}\n"
     ]
    }
   ],
   "source": [
    "#cytoscapeフリーズ確認用\n",
    "print(json.dumps(cy.status(), indent=4))"
   ]
  },
  {
   "cell_type": "code",
   "execution_count": 162,
   "metadata": {
    "collapsed": false
   },
   "outputs": [
    {
     "data": {
      "text/plain": [
       "<Response [200]>"
      ]
     },
     "execution_count": 162,
     "metadata": {},
     "output_type": "execute_result"
    }
   ],
   "source": [
    "#sessionのファイル保存\n",
    "requests.post(BASE + 'session?file=/home/shohei/bio/16spp/analysis/cys/pi92_{}_scps-subtypes.cys'.format(out_dir_core))"
   ]
  },
  {
   "cell_type": "code",
   "execution_count": 5,
   "metadata": {
    "collapsed": false
   },
   "outputs": [
    {
     "data": {
      "text/plain": [
       "'[2070967]'"
      ]
     },
     "execution_count": 5,
     "metadata": {},
     "output_type": "execute_result"
    }
   ],
   "source": [
    "requests.get(BASE + \"networks/\").text"
   ]
  },
  {
   "cell_type": "code",
   "execution_count": 308,
   "metadata": {
    "collapsed": true
   },
   "outputs": [],
   "source": [
    "network_png = requests.get(BASE + \"networks/{}/views/first.png?h=4000\".format(52))"
   ]
  },
  {
   "cell_type": "code",
   "execution_count": null,
   "metadata": {
    "collapsed": true
   },
   "outputs": [],
   "source": []
  },
  {
   "cell_type": "code",
   "execution_count": null,
   "metadata": {
    "collapsed": true
   },
   "outputs": [],
   "source": []
  },
  {
   "cell_type": "code",
   "execution_count": null,
   "metadata": {
    "collapsed": true
   },
   "outputs": [],
   "source": []
  },
  {
   "cell_type": "code",
   "execution_count": null,
   "metadata": {
    "collapsed": true
   },
   "outputs": [],
   "source": []
  },
  {
   "cell_type": "code",
   "execution_count": null,
   "metadata": {
    "collapsed": true
   },
   "outputs": [],
   "source": []
  },
  {
   "cell_type": "code",
   "execution_count": null,
   "metadata": {
    "collapsed": true
   },
   "outputs": [],
   "source": []
  }
 ],
 "metadata": {
  "kernelspec": {
   "display_name": "Python 3",
   "language": "python",
   "name": "python3"
  },
  "language_info": {
   "codemirror_mode": {
    "name": "ipython",
    "version": 3
   },
   "file_extension": ".py",
   "mimetype": "text/x-python",
   "name": "python",
   "nbconvert_exporter": "python",
   "pygments_lexer": "ipython3",
   "version": "3.5.1"
  },
  "notify_time": "0"
 },
 "nbformat": 4,
 "nbformat_minor": 0
}
